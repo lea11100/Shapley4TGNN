{
 "cells": [
  {
   "cell_type": "code",
   "execution_count": 1,
   "metadata": {},
   "outputs": [],
   "source": [
    "from Config.config import CONFIG\n",
    "CONFIG = CONFIG(\"MOOC\")"
   ]
  },
  {
   "cell_type": "code",
   "execution_count": 2,
   "metadata": {},
   "outputs": [],
   "source": [
    "from DyGLib.models.GraphMixer import GraphMixer\n",
    "from DyGLib.models.TGAT import TGAT\n",
    "from DyGLib.models.TCL import TCL\n",
    "from DyGLib.models.CAWN import CAWN\n",
    "from DyGLib.models.DyGFormer import DyGFormer\n",
    "from DyGLib.models.MemoryModel import MemoryModel, compute_src_dst_node_time_shifts\n",
    "\n",
    "from DyGLib.models.modules import TGNN, NeuralNetworkSrcDst, BatchSubgraphs\n",
    "from DyGLib.utils.DataLoader import get_link_prediction_data\n",
    "from DyGLib.utils.utils import get_neighbor_sampler, NegativeEdgeSampler\n",
    "\n",
    "import torch\n",
    "import numpy as np\n",
    "import pandas as pd\n",
    "import seaborn as sns\n",
    "\n",
    "import random\n",
    "\n",
    "import graphviz\n",
    "from IPython.display import SVG\n",
    "import time"
   ]
  },
  {
   "cell_type": "markdown",
   "metadata": {},
   "source": [
    "# Initialization"
   ]
  },
  {
   "cell_type": "code",
   "execution_count": 3,
   "metadata": {},
   "outputs": [],
   "source": [
    "trained_model_path = CONFIG.model.trained_model_path\n",
    "edge_feat_path = CONFIG.data.folder + CONFIG.data.edge_feat_file\n",
    "node_feat_path = CONFIG.data.folder + CONFIG.data.node_feat_file\n",
    "index_path = CONFIG.data.folder + CONFIG.data.index_file\n",
    "feature_names_path = CONFIG.data.folder + CONFIG.data.feature_names_file"
   ]
  },
  {
   "cell_type": "code",
   "execution_count": 4,
   "metadata": {},
   "outputs": [
    {
     "name": "stdout",
     "output_type": "stream",
     "text": [
      "The dataset has 411749 interactions, involving 7144 different nodes\n",
      "The training dataset has 219769 interactions, involving 6170 different nodes\n",
      "The validation dataset has 41174 interactions, involving 2062 different nodes\n",
      "The test dataset has 41175 interactions, involving 1857 different nodes\n",
      "The new node validation dataset has 20050 interactions, involving 1748 different nodes\n",
      "The new node test dataset has 23731 interactions, involving 1640 different nodes\n",
      "714 nodes were used for the inductive testing, i.e. are never seen during training\n"
     ]
    }
   ],
   "source": [
    "# get data for training, validation and testing\n",
    "node_raw_features, edge_raw_features, full_data, train_data, val_data, test_data = \\\n",
    "    get_link_prediction_data(val_ratio=0.1, test_ratio=0.1, node_dim=CONFIG.model.node_dim)\n",
    "\n",
    "# initialize validation and test neighbor sampler to retrieve temporal graph\n",
    "full_neighbor_sampler = get_neighbor_sampler(data=full_data, edge_features=edge_raw_features, sample_neighbor_strategy=CONFIG.model.sample_neighbor_strategy,\n",
    "                                                time_scaling_factor=CONFIG.model.time_scaling_factor, seed=1)\n",
    "train_neighbor_sampler = get_neighbor_sampler(data=train_data, edge_features=edge_raw_features, sample_neighbor_strategy=CONFIG.model.sample_neighbor_strategy,\n",
    "                                                time_scaling_factor=CONFIG.model.time_scaling_factor, seed=1)\n",
    "\n",
    "# create model\n",
    "if CONFIG.model.model_name == 'TGAT':\n",
    "    dynamic_backbone = TGAT(num_nodes=node_raw_features.shape[0], node_dim=node_raw_features.shape[1], edge_dim=edge_raw_features.shape[1],\n",
    "                            time_feat_dim=CONFIG.model.time_feat_dim, num_layers=CONFIG.model.num_layers, num_heads=CONFIG.model.num_heads, dropout=CONFIG.model.dropout, device=CONFIG.model.device)\n",
    "elif CONFIG.model.model_name in ['JODIE', 'DyRep', 'TGN']:\n",
    "    # four floats that represent the mean and standard deviation of source and destination node time shifts in the training data, which is used for JODIE\n",
    "    src_node_mean_time_shift, src_node_std_time_shift, dst_node_mean_time_shift_dst, dst_node_std_time_shift = \\\n",
    "        compute_src_dst_node_time_shifts(train_data.src_node_ids, train_data.dst_node_ids, train_data.node_interact_times)\n",
    "    dynamic_backbone = MemoryModel(num_nodes=node_raw_features.shape[0], node_dim=node_raw_features.shape[1], edge_dim=edge_raw_features.shape[1],\n",
    "                                    time_feat_dim=CONFIG.model.time_feat_dim, model_name=CONFIG.model.model_name, num_layers=CONFIG.model.num_layers, num_heads=CONFIG.model.num_heads,\n",
    "                                    dropout=CONFIG.model.dropout, src_node_mean_time_shift=src_node_mean_time_shift, src_node_std_time_shift=src_node_std_time_shift,\n",
    "                                    dst_node_mean_time_shift_dst=dst_node_mean_time_shift_dst, dst_node_std_time_shift=dst_node_std_time_shift, device=CONFIG.model.device)\n",
    "elif CONFIG.model.model_name == 'CAWN':\n",
    "    dynamic_backbone = CAWN(num_nodes=node_raw_features.shape[0], node_dim=node_raw_features.shape[1], edge_dim=edge_raw_features.shape[1],\n",
    "                            time_feat_dim=CONFIG.model.time_feat_dim, position_feat_dim=CONFIG.model.position_feat_dim, walk_length=CONFIG.model.walk_length,\n",
    "                            num_walk_heads=CONFIG.model.num_walk_heads, dropout=CONFIG.model.dropout, device=CONFIG.model.device)\n",
    "elif CONFIG.model.model_name == 'TCL':\n",
    "    dynamic_backbone = TCL(num_nodes=node_raw_features.shape[0], node_dim=node_raw_features.shape[1], edge_dim=edge_raw_features.shape[1],\n",
    "                            time_feat_dim=CONFIG.model.time_feat_dim, num_layers=CONFIG.model.num_layers, num_heads=CONFIG.model.num_heads,\n",
    "                            num_depths=CONFIG.model.num_neighbors + 1, dropout=CONFIG.model.dropout, device=CONFIG.model.device)\n",
    "elif CONFIG.model.model_name == 'GraphMixer':\n",
    "    dynamic_backbone = GraphMixer(num_nodes=node_raw_features.shape[0], node_dim=node_raw_features.shape[1], edge_dim=edge_raw_features.shape[1],\n",
    "                            time_feat_dim=CONFIG.model.time_feat_dim, num_tokens=CONFIG.model.num_neighbors, num_layers=CONFIG.model.num_layers, dropout=CONFIG.model.dropout, device=CONFIG.model.device)\n",
    "elif CONFIG.model.model_name == 'DyGFormer':\n",
    "    dynamic_backbone = DyGFormer(num_nodes=node_raw_features.shape[0], node_dim=node_raw_features.shape[1], edge_dim=edge_raw_features.shape[1],\n",
    "                                    time_feat_dim=CONFIG.model.time_feat_dim, channel_embedding_dim=CONFIG.model.channel_embedding_dim, patch_size=CONFIG.model.patch_size,\n",
    "                                    num_layers=CONFIG.model.num_layers, num_heads=CONFIG.model.num_heads, dropout=CONFIG.model.dropout,\n",
    "                                    max_input_sequence_length=CONFIG.model.max_input_sequence_length, device=CONFIG.model.device)\n",
    "else:\n",
    "    raise ValueError(f\"Wrong value for model_name {CONFIG.model.model_name}!\")\n",
    "\n",
    "regressor = NeuralNetworkSrcDst(input_dim=node_raw_features.shape[1], num_layers=CONFIG.model.num_reg_layers, hidden_dim=CONFIG.model.hidden_reg_layers_dim)\n",
    "model = TGNN(dynamic_backbone, regressor)"
   ]
  },
  {
   "cell_type": "code",
   "execution_count": 5,
   "metadata": {},
   "outputs": [
    {
     "data": {
      "text/plain": [
       "TGNN(\n",
       "  (backbone): TGAT(\n",
       "    (time_encoder): TimeEncoder(\n",
       "      (w): Linear(in_features=1, out_features=100, bias=True)\n",
       "    )\n",
       "    (temporal_conv_layers): ModuleList(\n",
       "      (0-1): 2 x MultiHeadAttention(\n",
       "        (query_projection): Linear(in_features=272, out_features=272, bias=False)\n",
       "        (key_projection): Linear(in_features=444, out_features=272, bias=False)\n",
       "        (value_projection): Linear(in_features=444, out_features=272, bias=False)\n",
       "        (layer_norm): LayerNorm((272,), eps=1e-05, elementwise_affine=True)\n",
       "        (residual_fc): Linear(in_features=272, out_features=272, bias=True)\n",
       "        (dropout): Dropout(p=0.1, inplace=False)\n",
       "      )\n",
       "    )\n",
       "    (projectors): ModuleList(\n",
       "      (0-1): 2 x Linear(in_features=444, out_features=172, bias=True)\n",
       "    )\n",
       "  )\n",
       "  (model): NeuralNetworkSrcDst(\n",
       "    (model): Sequential(\n",
       "      (0): Linear(in_features=344, out_features=172, bias=True)\n",
       "      (1): ReLU()\n",
       "      (2): Linear(in_features=172, out_features=1, bias=True)\n",
       "    )\n",
       "  )\n",
       ")"
      ]
     },
     "execution_count": 5,
     "metadata": {},
     "output_type": "execute_result"
    }
   ],
   "source": [
    "model.load_state_dict(torch.load(trained_model_path, weights_only=True))\n",
    "model.to(CONFIG.model.device)\n",
    "model.eval()"
   ]
  },
  {
   "cell_type": "markdown",
   "metadata": {},
   "source": [
    "## Select edges"
   ]
  },
  {
   "cell_type": "code",
   "execution_count": 6,
   "metadata": {},
   "outputs": [],
   "source": [
    "num_samples = 1000"
   ]
  },
  {
   "cell_type": "code",
   "execution_count": 7,
   "metadata": {},
   "outputs": [],
   "source": [
    "def get_edge_by_id(link_index):\n",
    "    src, dst, time_stamp, edge_id, true_value = full_data.src_node_ids[link_index], full_data.dst_node_ids[link_index], full_data.node_interact_times[link_index], full_data.edge_ids[link_index], 1 # type: ignore\n",
    "    return src, dst, time_stamp, edge_id, true_value"
   ]
  },
  {
   "cell_type": "code",
   "execution_count": 8,
   "metadata": {},
   "outputs": [],
   "source": [
    "random.seed(2025)\n",
    "\n",
    "sampled_edge_ids = random.sample((np.where((~np.isnan(full_data.labels)) & (~np.isin(full_data.edge_ids, train_data.edge_ids)))[0]).tolist(), num_samples)\n",
    "\n",
    "edge_info_array = np.array([list(get_edge_by_id(i)) for i in sampled_edge_ids])\n",
    "edge_info = pd.DataFrame(edge_info_array, columns=[\"Src\", \"Dst\", \"Time\", \"Edge\", \"Target\"])\n",
    "\n",
    "edges = edge_info[\"Edge\"].to_numpy(dtype=int)\n",
    "\n",
    "edge_info[\"InTrain\"] = np.isin(edges, train_data.edge_ids)\n",
    "edge_info = edge_info.sort_values(by=\"InTrain\").reset_index(drop=True)\n",
    "edge_info = edge_info[edge_info.InTrain == False]\n",
    "\n",
    "srcs = edge_info[\"Src\"].to_numpy(dtype=int)\n",
    "dsts = edge_info[\"Dst\"].to_numpy(dtype=int)\n",
    "timestamps = edge_info[\"Time\"].to_numpy(dtype=\"float32\")\n",
    "targets = edge_info[\"Target\"].to_numpy(dtype=\"float32\")"
   ]
  },
  {
   "cell_type": "code",
   "execution_count": 9,
   "metadata": {},
   "outputs": [
    {
     "data": {
      "text/html": [
       "<div>\n",
       "<style scoped>\n",
       "    .dataframe tbody tr th:only-of-type {\n",
       "        vertical-align: middle;\n",
       "    }\n",
       "\n",
       "    .dataframe tbody tr th {\n",
       "        vertical-align: top;\n",
       "    }\n",
       "\n",
       "    .dataframe thead th {\n",
       "        text-align: right;\n",
       "    }\n",
       "</style>\n",
       "<table border=\"1\" class=\"dataframe\">\n",
       "  <thead>\n",
       "    <tr style=\"text-align: right;\">\n",
       "      <th></th>\n",
       "      <th>Src</th>\n",
       "      <th>Dst</th>\n",
       "      <th>Time</th>\n",
       "      <th>Edge</th>\n",
       "      <th>Target</th>\n",
       "      <th>InTrain</th>\n",
       "      <th>Prediction</th>\n",
       "    </tr>\n",
       "  </thead>\n",
       "  <tbody>\n",
       "    <tr>\n",
       "      <th>0</th>\n",
       "      <td>5706.0</td>\n",
       "      <td>7104.0</td>\n",
       "      <td>2340161.0</td>\n",
       "      <td>365981.0</td>\n",
       "      <td>1.0</td>\n",
       "      <td>False</td>\n",
       "      <td>0.697348</td>\n",
       "    </tr>\n",
       "    <tr>\n",
       "      <th>1</th>\n",
       "      <td>251.0</td>\n",
       "      <td>7071.0</td>\n",
       "      <td>1801410.0</td>\n",
       "      <td>266541.0</td>\n",
       "      <td>1.0</td>\n",
       "      <td>False</td>\n",
       "      <td>0.729307</td>\n",
       "    </tr>\n",
       "    <tr>\n",
       "      <th>2</th>\n",
       "      <td>6784.0</td>\n",
       "      <td>7049.0</td>\n",
       "      <td>2190392.0</td>\n",
       "      <td>342876.0</td>\n",
       "      <td>1.0</td>\n",
       "      <td>False</td>\n",
       "      <td>0.982102</td>\n",
       "    </tr>\n",
       "    <tr>\n",
       "      <th>3</th>\n",
       "      <td>1220.0</td>\n",
       "      <td>7084.0</td>\n",
       "      <td>2193035.0</td>\n",
       "      <td>344107.0</td>\n",
       "      <td>1.0</td>\n",
       "      <td>False</td>\n",
       "      <td>0.568913</td>\n",
       "    </tr>\n",
       "    <tr>\n",
       "      <th>4</th>\n",
       "      <td>2433.0</td>\n",
       "      <td>7054.0</td>\n",
       "      <td>279331.0</td>\n",
       "      <td>42164.0</td>\n",
       "      <td>1.0</td>\n",
       "      <td>False</td>\n",
       "      <td>0.626817</td>\n",
       "    </tr>\n",
       "    <tr>\n",
       "      <th>...</th>\n",
       "      <td>...</td>\n",
       "      <td>...</td>\n",
       "      <td>...</td>\n",
       "      <td>...</td>\n",
       "      <td>...</td>\n",
       "      <td>...</td>\n",
       "      <td>...</td>\n",
       "    </tr>\n",
       "    <tr>\n",
       "      <th>995</th>\n",
       "      <td>1946.0</td>\n",
       "      <td>7065.0</td>\n",
       "      <td>809346.0</td>\n",
       "      <td>109440.0</td>\n",
       "      <td>1.0</td>\n",
       "      <td>False</td>\n",
       "      <td>0.137039</td>\n",
       "    </tr>\n",
       "    <tr>\n",
       "      <th>996</th>\n",
       "      <td>3617.0</td>\n",
       "      <td>7068.0</td>\n",
       "      <td>2521140.0</td>\n",
       "      <td>399456.0</td>\n",
       "      <td>1.0</td>\n",
       "      <td>False</td>\n",
       "      <td>0.948259</td>\n",
       "    </tr>\n",
       "    <tr>\n",
       "      <th>997</th>\n",
       "      <td>5008.0</td>\n",
       "      <td>7099.0</td>\n",
       "      <td>1576055.0</td>\n",
       "      <td>230217.0</td>\n",
       "      <td>1.0</td>\n",
       "      <td>False</td>\n",
       "      <td>0.732499</td>\n",
       "    </tr>\n",
       "    <tr>\n",
       "      <th>998</th>\n",
       "      <td>3494.0</td>\n",
       "      <td>7105.0</td>\n",
       "      <td>2194671.0</td>\n",
       "      <td>344664.0</td>\n",
       "      <td>1.0</td>\n",
       "      <td>False</td>\n",
       "      <td>0.657746</td>\n",
       "    </tr>\n",
       "    <tr>\n",
       "      <th>999</th>\n",
       "      <td>2293.0</td>\n",
       "      <td>7086.0</td>\n",
       "      <td>2281805.0</td>\n",
       "      <td>359808.0</td>\n",
       "      <td>1.0</td>\n",
       "      <td>False</td>\n",
       "      <td>0.408529</td>\n",
       "    </tr>\n",
       "  </tbody>\n",
       "</table>\n",
       "<p>1000 rows × 7 columns</p>\n",
       "</div>"
      ],
      "text/plain": [
       "        Src     Dst       Time      Edge  Target  InTrain  Prediction\n",
       "0    5706.0  7104.0  2340161.0  365981.0     1.0    False    0.697348\n",
       "1     251.0  7071.0  1801410.0  266541.0     1.0    False    0.729307\n",
       "2    6784.0  7049.0  2190392.0  342876.0     1.0    False    0.982102\n",
       "3    1220.0  7084.0  2193035.0  344107.0     1.0    False    0.568913\n",
       "4    2433.0  7054.0   279331.0   42164.0     1.0    False    0.626817\n",
       "..      ...     ...        ...       ...     ...      ...         ...\n",
       "995  1946.0  7065.0   809346.0  109440.0     1.0    False    0.137039\n",
       "996  3617.0  7068.0  2521140.0  399456.0     1.0    False    0.948259\n",
       "997  5008.0  7099.0  1576055.0  230217.0     1.0    False    0.732499\n",
       "998  3494.0  7105.0  2194671.0  344664.0     1.0    False    0.657746\n",
       "999  2293.0  7086.0  2281805.0  359808.0     1.0    False    0.408529\n",
       "\n",
       "[1000 rows x 7 columns]"
      ]
     },
     "execution_count": 9,
     "metadata": {},
     "output_type": "execute_result"
    }
   ],
   "source": [
    "model.eval()\n",
    "\n",
    "subgraphs_src = full_neighbor_sampler.get_multi_hop_neighbors(CONFIG.model.num_layers, srcs, timestamps, num_neighbors = CONFIG.model.num_neighbors)\n",
    "subgraphs_dst = full_neighbor_sampler.get_multi_hop_neighbors(CONFIG.model.num_layers, dsts, timestamps, num_neighbors = CONFIG.model.num_neighbors)\n",
    "edge_feat_src = full_neighbor_sampler.get_edge_features_for_multi_hop(subgraphs_src[1])\n",
    "edge_feat_dst = full_neighbor_sampler.get_edge_features_for_multi_hop(subgraphs_dst[1])\n",
    "\n",
    "subgraphs_src = BatchSubgraphs(*subgraphs_src, edge_feat_src)\n",
    "subgraphs_src.to(CONFIG.model.device)\n",
    "subgraphs_dst = BatchSubgraphs(*subgraphs_dst, edge_feat_dst)\n",
    "subgraphs_dst.to(CONFIG.model.device)\n",
    "\n",
    "predicts = model(src_node_ids=srcs,\n",
    "                dst_node_ids=dsts,\n",
    "                node_interact_times=timestamps,\n",
    "                src_subgraphs = subgraphs_src,\n",
    "                dst_subgraphs = subgraphs_dst,\n",
    "                time_gap=CONFIG.model.time_gap,\n",
    "                edges_are_positive=True).squeeze(dim=-1).sigmoid()\n",
    "\n",
    "edge_info[\"Prediction\"] = predicts.detach().cpu().numpy()\n",
    "edge_info"
   ]
  },
  {
   "cell_type": "code",
   "execution_count": 10,
   "metadata": {},
   "outputs": [
    {
     "data": {
      "text/html": [
       "<div>\n",
       "<style scoped>\n",
       "    .dataframe tbody tr th:only-of-type {\n",
       "        vertical-align: middle;\n",
       "    }\n",
       "\n",
       "    .dataframe tbody tr th {\n",
       "        vertical-align: top;\n",
       "    }\n",
       "\n",
       "    .dataframe thead th {\n",
       "        text-align: right;\n",
       "    }\n",
       "</style>\n",
       "<table border=\"1\" class=\"dataframe\">\n",
       "  <thead>\n",
       "    <tr style=\"text-align: right;\">\n",
       "      <th></th>\n",
       "      <th>Src</th>\n",
       "      <th>Dst</th>\n",
       "      <th>Time</th>\n",
       "      <th>Edge</th>\n",
       "      <th>Target</th>\n",
       "      <th>InTrain</th>\n",
       "      <th>Prediction</th>\n",
       "    </tr>\n",
       "  </thead>\n",
       "  <tbody>\n",
       "    <tr>\n",
       "      <th>6</th>\n",
       "      <td>6743.0</td>\n",
       "      <td>7078.0</td>\n",
       "      <td>2189704.0</td>\n",
       "      <td>342434.0</td>\n",
       "      <td>1.0</td>\n",
       "      <td>False</td>\n",
       "      <td>0.703462</td>\n",
       "    </tr>\n",
       "  </tbody>\n",
       "</table>\n",
       "</div>"
      ],
      "text/plain": [
       "      Src     Dst       Time      Edge  Target  InTrain  Prediction\n",
       "6  6743.0  7078.0  2189704.0  342434.0     1.0    False    0.703462"
      ]
     },
     "execution_count": 10,
     "metadata": {},
     "output_type": "execute_result"
    }
   ],
   "source": [
    "sample_edge = edge_info.iloc[[6]]\n",
    "sample_edge_id = sample_edge.index\n",
    "\n",
    "sample_edge"
   ]
  },
  {
   "cell_type": "markdown",
   "metadata": {},
   "source": [
    "# Shapley Value Approximations Comparison"
   ]
  },
  {
   "cell_type": "code",
   "execution_count": 11,
   "metadata": {},
   "outputs": [],
   "source": [
    "import matplotlib.pyplot as plt\n",
    "from Config.colors import PRIMARYCOLOR, PALLETTE, PALLETTE2"
   ]
  },
  {
   "cell_type": "code",
   "execution_count": 12,
   "metadata": {},
   "outputs": [
    {
     "name": "stderr",
     "output_type": "stream",
     "text": [
      "c:\\Users\\LMS\\Documents\\Masterarbeit\\.venv\\lib\\site-packages\\tqdm\\auto.py:21: TqdmWarning: IProgress not found. Please update jupyter and ipywidgets. See https://ipywidgets.readthedocs.io/en/stable/user_install.html\n",
      "  from .autonotebook import tqdm as notebook_tqdm\n"
     ]
    }
   ],
   "source": [
    "from tqdm import tqdm\n",
    "from Explainers.Shapley4TGNN.Explainer import ShapleyExplainerEvents\n",
    "from Explainers.Shapley4TGNN.Explainer import ShapleyExplainerFeatures\n",
    "import shap\n",
    "from Explainers.Shapley4TGNN.Plots import waterfall\n",
    "\n",
    "explainer = ShapleyExplainerFeatures(model, full_neighbor_sampler, full_data, edge_raw_features, None, shapley_alg=\"MonteCarlo\")\n",
    "explainer.initialize()\n",
    "\n",
    "result = []\n",
    "for num in range(50, 1001, 50):\n",
    "    for i in range(80):\n",
    "        start = time.time()\n",
    "        explanation_flatten, cohort, imputation_data, baseline = explainer.explain_instance(\n",
    "            srcs[sample_edge_id[0]], \n",
    "            dsts[sample_edge_id[0]], \n",
    "            timestamps[sample_edge_id[0]], \n",
    "            event_id=342361, \n",
    "            silent=True, \n",
    "            max_num_samples=num) # type: ignore\n",
    "        end = time.time()\n",
    "        sum_owen = sum([x[-1] for x in explanation_flatten])\n",
    "        result.append([sum_owen, num, end-start])"
   ]
  },
  {
   "cell_type": "code",
   "execution_count": 13,
   "metadata": {},
   "outputs": [],
   "source": [
    "df = pd.DataFrame(result, columns=[\"Shapley value\", \"Number of Samples\", \"Time\"])"
   ]
  },
  {
   "cell_type": "code",
   "execution_count": 14,
   "metadata": {},
   "outputs": [
    {
     "data": {
      "image/png": "[encoded data removed]",
      "text/plain": [
       "<Figure size 640x480 with 2 Axes>"
      ]
     },
     "metadata": {},
     "output_type": "display_data"
    }
   ],
   "source": [
    "fig, ax =plt.subplots(1,2, sharey=True)\n",
    "sns.boxplot(df, x = \"Shapley value\", y= \"Number of Samples\", orient=\"y\", ax=ax[0], color=PRIMARYCOLOR)\n",
    "sns.barplot(df, x = \"Time\", y= \"Number of Samples\", orient=\"y\", ax=ax[1], color=PRIMARYCOLOR)\n",
    "fig.savefig(\"Documents/Images/Variance-vs-Num.png\")\n",
    "plt.show()"
   ]
  },
  {
   "cell_type": "code",
   "execution_count": 18,
   "metadata": {},
   "outputs": [
    {
     "name": "stderr",
     "output_type": "stream",
     "text": [
      "C:\\Users\\LMS\\AppData\\Local\\Temp\\ipykernel_16164\\3421471057.py:1: FutureWarning: The provided callable <function std at 0x0000020C4A1EA4C0> is currently using SeriesGroupBy.std. In a future version of pandas, the provided callable will be used directly. To keep current behavior pass the string \"std\" instead.\n",
      "  df_std = df.groupby(by=\"Number of Samples\")[\"Shapley value\"].agg(np.std)\n",
      "C:\\Users\\LMS\\AppData\\Local\\Temp\\ipykernel_16164\\3421471057.py:2: FutureWarning: The provided callable <function mean at 0x0000020C4A1EA3A0> is currently using SeriesGroupBy.mean. In a future version of pandas, the provided callable will be used directly. To keep current behavior pass the string \"mean\" instead.\n",
      "  df_time = df.groupby(by=\"Number of Samples\").Time.agg(np.mean)\n"
     ]
    },
    {
     "data": {
      "image/png": "[encoded data removed]",
      "text/plain": [
       "<Figure size 640x480 with 1 Axes>"
      ]
     },
     "metadata": {},
     "output_type": "display_data"
    }
   ],
   "source": [
    "df_std = df.groupby(by=\"Number of Samples\")[\"Shapley value\"].agg(np.std)\n",
    "df_time = df.groupby(by=\"Number of Samples\").Time.agg(np.mean)\n",
    "\n",
    "df_std_time = pd.concat([df_std, df_time], axis = 1).reset_index()\n",
    "df_std_time = df_std_time.rename(columns={\"Shapley value\":\"Std.\"})\n",
    "\n",
    "sns.lineplot(df_std_time, x=\"Std.\", y=\"Time\", marker=\"*\")\n",
    "\n",
    "for x, y, label in zip(df_std_time[\"Std.\"], df_std_time[\"Time\"], df_std_time[\"Number of Samples\"]):\n",
    "    if(label == 550):\n",
    "        plt.text(x = x, y = y, s = label, horizontalalignment='right',\n",
    "        verticalalignment='top',)\n",
    "\n",
    "plt.savefig(\"Documents/Images/Variance-vs-Time.png\", bbox_inches='tight')"
   ]
  },
  {
   "cell_type": "code",
   "execution_count": null,
   "metadata": {},
   "outputs": [],
   "source": []
  }
 ],
 "metadata": {
  "kernelspec": {
   "display_name": ".venv",
   "language": "python",
   "name": "python3"
  },
  "language_info": {
   "codemirror_mode": {
    "name": "ipython",
    "version": 3
   },
   "file_extension": ".py",
   "mimetype": "text/x-python",
   "name": "python",
   "nbconvert_exporter": "python",
   "pygments_lexer": "ipython3",
   "version": "3.9.13"
  }
 },
 "nbformat": 4,
 "nbformat_minor": 2
}
