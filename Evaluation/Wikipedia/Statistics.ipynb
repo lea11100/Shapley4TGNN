{
 "cells": [
  {
   "cell_type": "code",
   "execution_count": 1,
   "id": "02f02113",
   "metadata": {},
   "outputs": [],
   "source": [
    "import pandas as pd\n",
    "import numpy as np"
   ]
  },
  {
   "cell_type": "code",
   "execution_count": 2,
   "id": "74a76659",
   "metadata": {},
   "outputs": [],
   "source": [
    "from Config.config import CONFIG\n",
    "CONFIG = CONFIG(\"Wikipedia\")"
   ]
  },
  {
   "cell_type": "code",
   "execution_count": 3,
   "id": "531fb359",
   "metadata": {},
   "outputs": [],
   "source": [
    "from DyGLib.utils.DataLoader import get_link_prediction_data"
   ]
  },
  {
   "cell_type": "code",
   "execution_count": 4,
   "id": "1125c014",
   "metadata": {},
   "outputs": [
    {
     "name": "stdout",
     "output_type": "stream",
     "text": [
      "The dataset has 157474 interactions, involving 9227 different nodes\n",
      "The training dataset has 81029 interactions, involving 6141 different nodes\n",
      "The validation dataset has 23621 interactions, involving 3256 different nodes\n",
      "The test dataset has 23621 interactions, involving 3564 different nodes\n",
      "The new node validation dataset has 12016 interactions, involving 2120 different nodes\n",
      "The new node test dataset has 11715 interactions, involving 2437 different nodes\n",
      "922 nodes were used for the inductive testing, i.e. are never seen during training\n"
     ]
    }
   ],
   "source": [
    "node_raw_features, edge_raw_features, full_data, train_data, val_data, test_data = get_link_prediction_data( \n",
    "                            val_ratio=CONFIG.train.val_ratio, \n",
    "                            test_ratio=CONFIG.train.test_ratio, \n",
    "                            node_dim=CONFIG.model.node_dim)\n",
    "\n",
    "\n",
    "graph_df_train = pd.DataFrame({\"u\": train_data.src_node_ids, \"i\":train_data.dst_node_ids})\n",
    "graph_df_val = pd.DataFrame({\"u\": val_data.src_node_ids, \"i\":val_data.dst_node_ids})\n",
    "graph_df_test = pd.DataFrame({\"u\": test_data.src_node_ids, \"i\":test_data.dst_node_ids})\n",
    "graph_df = full_data.dataset if full_data.dataset is not None else pd.DataFrame()"
   ]
  },
  {
   "cell_type": "code",
   "execution_count": 5,
   "id": "67594c02",
   "metadata": {},
   "outputs": [],
   "source": [
    "nodes_train = np.unique(np.concat([graph_df_train.u.to_numpy(), graph_df_train.u.to_numpy()]))\n",
    "nodes_val = np.unique(np.concat([graph_df_val.u.to_numpy(), graph_df_val.u.to_numpy()]))\n",
    "nodes_test = np.unique(np.concat([graph_df_test.u.to_numpy(), graph_df_test.u.to_numpy()]))\n",
    "nodes_total = np.unique(np.concat([graph_df.u.to_numpy(), graph_df.u.to_numpy()]))"
   ]
  },
  {
   "cell_type": "code",
   "execution_count": 6,
   "id": "485f445e",
   "metadata": {},
   "outputs": [
    {
     "name": "stdout",
     "output_type": "stream",
     "text": [
      "Num. nodes (train): 5346\n",
      "Num. nodes (val): 2470\n",
      "Num. nodes (test): 2776\n",
      "Num. nodes (total): 8227\n"
     ]
    }
   ],
   "source": [
    "print(f\"Num. nodes (train): {nodes_train.shape[0]}\")\n",
    "print(f\"Num. nodes (val): {nodes_val.shape[0]}\")\n",
    "print(f\"Num. nodes (test): {nodes_test.shape[0]}\")\n",
    "print(f\"Num. nodes (total): {nodes_total.shape[0]}\")"
   ]
  },
  {
   "cell_type": "code",
   "execution_count": 7,
   "id": "0525e71f",
   "metadata": {},
   "outputs": [
    {
     "name": "stdout",
     "output_type": "stream",
     "text": [
      "Num. edges (train): 81029\n",
      "Num. edges (val): 23621\n",
      "Num. edges (test): 23621\n",
      "Num. edges (total): 157474\n"
     ]
    }
   ],
   "source": [
    "print(f\"Num. edges (train): {graph_df_train.shape[0]}\")\n",
    "print(f\"Num. edges (val): {graph_df_val.shape[0]}\")\n",
    "print(f\"Num. edges (test): {graph_df_test.shape[0]}\")\n",
    "print(f\"Num. edges (total): {graph_df.shape[0]}\")"
   ]
  },
  {
   "cell_type": "code",
   "execution_count": 8,
   "id": "aef24c27",
   "metadata": {},
   "outputs": [
    {
     "name": "stdout",
     "output_type": "stream",
     "text": [
      "Avg. degree (train): 101.92327044025157\n",
      "Avg. degree (val): 108.33333333333333\n",
      "Avg. degree (test): 128.52805611222445\n",
      "Avg. degree (total): 157.474\n"
     ]
    }
   ],
   "source": [
    "avg_deg_train = graph_df_train[['u', 'i']].groupby('i').count().mean().values[0]\n",
    "avg_deg_val = pd.concat([graph_df_train, graph_df_val])[['u', 'i']].groupby('i').count().mean().values[0]\n",
    "avg_deg_test = pd.concat([graph_df_train, graph_df_val, graph_df_test])[['u', 'i']].groupby('i').count().mean().values[0]\n",
    "avg_deg_total = graph_df[['u', 'i']].groupby('i').count().mean().values[0]\n",
    "\n",
    "print(f\"Avg. degree (train): {avg_deg_train}\")\n",
    "print(f\"Avg. degree (val): {avg_deg_val}\")\n",
    "print(f\"Avg. degree (test): {avg_deg_test}\")\n",
    "print(f\"Avg. degree (total): {avg_deg_total}\")"
   ]
  },
  {
   "cell_type": "code",
   "execution_count": 9,
   "id": "e88a6972",
   "metadata": {},
   "outputs": [
    {
     "name": "stdout",
     "output_type": "stream",
     "text": [
      "\n",
      "\\parbox[t]{2mm}{\\multirow{4}{*}{\\rotatebox[origin=c]{90}{Wikipedia}}} & Train & 5346 & 81029 & 101.923 \\\\\n",
      "& Validation & 2470 & 23621 & 108.333 \\\\\n",
      "& Test & 2776 & 23621 & 128.528 \\\\\n",
      "& Total & 8227 & 157474 & 157.474 \\\\\n",
      "\\midrule\n",
      "\n"
     ]
    }
   ],
   "source": [
    "text = f\"\"\"\n",
    "\\\\parbox[t]{{2mm}}{{\\multirow{{4}}{{*}}{{\\\\rotatebox[origin=c]{{90}}{{Wikipedia}}}}}} & Train & {nodes_train.shape[0]} & {graph_df_train.shape[0]} & {round(avg_deg_train,3)} \\\\\\\\\n",
    "& Validation & {nodes_val.shape[0]} & {graph_df_val.shape[0]} & {round(avg_deg_val,3)} \\\\\\\\\n",
    "& Test & {nodes_test.shape[0]} & {graph_df_test.shape[0]} & {round(avg_deg_test,3)} \\\\\\\\\n",
    "& Total & {nodes_total.shape[0]} & {graph_df.shape[0]} & {round(avg_deg_total,3)} \\\\\\\\\n",
    "\\\\midrule\n",
    "\"\"\"\n",
    "\n",
    "print(text)"
   ]
  }
 ],
 "metadata": {
  "kernelspec": {
   "display_name": ".venv",
   "language": "python",
   "name": "python3"
  },
  "language_info": {
   "codemirror_mode": {
    "name": "ipython",
    "version": 3
   },
   "file_extension": ".py",
   "mimetype": "text/x-python",
   "name": "python",
   "nbconvert_exporter": "python",
   "pygments_lexer": "ipython3",
   "version": "3.9.13"
  }
 },
 "nbformat": 4,
 "nbformat_minor": 5
}
