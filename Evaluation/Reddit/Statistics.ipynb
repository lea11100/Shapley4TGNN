{
 "cells": [
  {
   "cell_type": "code",
   "execution_count": 10,
   "id": "02f02113",
   "metadata": {},
   "outputs": [],
   "source": [
    "import pandas as pd\n",
    "import numpy as np"
   ]
  },
  {
   "cell_type": "code",
   "execution_count": 11,
   "id": "74a76659",
   "metadata": {},
   "outputs": [],
   "source": [
    "from Config.config import CONFIG\n",
    "CONFIG = CONFIG(\"Reddit\")"
   ]
  },
  {
   "cell_type": "code",
   "execution_count": 12,
   "id": "531fb359",
   "metadata": {},
   "outputs": [],
   "source": [
    "from DyGLib.utils.DataLoader import get_link_prediction_data"
   ]
  },
  {
   "cell_type": "code",
   "execution_count": 13,
   "id": "1125c014",
   "metadata": {},
   "outputs": [
    {
     "name": "stdout",
     "output_type": "stream",
     "text": [
      "The dataset has 672447 interactions, involving 10984 different nodes\n",
      "The training dataset has 389989 interactions, involving 9574 different nodes\n",
      "The validation dataset has 100867 interactions, involving 9839 different nodes\n",
      "The test dataset has 100867 interactions, involving 9615 different nodes\n",
      "The new node validation dataset has 19446 interactions, involving 3491 different nodes\n",
      "The new node test dataset has 21470 interactions, involving 3515 different nodes\n",
      "1098 nodes were used for the inductive testing, i.e. are never seen during training\n"
     ]
    }
   ],
   "source": [
    "node_raw_features, edge_raw_features, full_data, train_data, val_data, test_data = get_link_prediction_data(\n",
    "                            val_ratio=CONFIG.train.val_ratio, \n",
    "                            test_ratio=CONFIG.train.test_ratio, \n",
    "                            node_dim=CONFIG.model.node_dim)\n",
    "\n",
    "\n",
    "graph_df_train = pd.DataFrame({\"u\": train_data.src_node_ids, \"i\":train_data.dst_node_ids})\n",
    "graph_df_val = pd.DataFrame({\"u\": val_data.src_node_ids, \"i\":val_data.dst_node_ids})\n",
    "graph_df_test = pd.DataFrame({\"u\": test_data.src_node_ids, \"i\":test_data.dst_node_ids})\n",
    "graph_df = full_data.dataset if full_data.dataset is not None else pd.DataFrame()"
   ]
  },
  {
   "cell_type": "code",
   "execution_count": 14,
   "id": "67594c02",
   "metadata": {},
   "outputs": [],
   "source": [
    "nodes_train = np.unique(np.concat([graph_df_train.u.to_numpy(), graph_df_train.u.to_numpy()]))\n",
    "nodes_val = np.unique(np.concat([graph_df_val.u.to_numpy(), graph_df_val.u.to_numpy()]))\n",
    "nodes_test = np.unique(np.concat([graph_df_test.u.to_numpy(), graph_df_test.u.to_numpy()]))\n",
    "nodes_total = np.unique(np.concat([graph_df.u.to_numpy(), graph_df.u.to_numpy()]))"
   ]
  },
  {
   "cell_type": "code",
   "execution_count": 15,
   "id": "485f445e",
   "metadata": {},
   "outputs": [
    {
     "name": "stdout",
     "output_type": "stream",
     "text": [
      "Num. nodes (train): 8706\n",
      "Num. nodes (val): 8879\n",
      "Num. nodes (test): 8656\n",
      "Num. nodes (total): 10000\n"
     ]
    }
   ],
   "source": [
    "print(f\"Num. nodes (train): {nodes_train.shape[0]}\")\n",
    "print(f\"Num. nodes (val): {nodes_val.shape[0]}\")\n",
    "print(f\"Num. nodes (test): {nodes_test.shape[0]}\")\n",
    "print(f\"Num. nodes (total): {nodes_total.shape[0]}\")"
   ]
  },
  {
   "cell_type": "code",
   "execution_count": 16,
   "id": "0525e71f",
   "metadata": {},
   "outputs": [
    {
     "name": "stdout",
     "output_type": "stream",
     "text": [
      "Num. edges (train): 389989\n",
      "Num. edges (val): 100867\n",
      "Num. edges (test): 100867\n",
      "Num. edges (total): 672447\n"
     ]
    }
   ],
   "source": [
    "print(f\"Num. edges (train): {graph_df_train.shape[0]}\")\n",
    "print(f\"Num. edges (val): {graph_df_val.shape[0]}\")\n",
    "print(f\"Num. edges (test): {graph_df_test.shape[0]}\")\n",
    "print(f\"Num. edges (total): {graph_df.shape[0]}\")"
   ]
  },
  {
   "cell_type": "code",
   "execution_count": 17,
   "id": "aef24c27",
   "metadata": {},
   "outputs": [
    {
     "name": "stdout",
     "output_type": "stream",
     "text": [
      "Avg. degree (train): 449.29608294930875\n",
      "Avg. degree (val): 501.38508682328904\n",
      "Avg. degree (test): 601.344512195122\n",
      "Avg. degree (total): 683.3810975609756\n"
     ]
    }
   ],
   "source": [
    "avg_deg_train = graph_df_train[['u', 'i']].groupby('i').count().mean().values[0]\n",
    "avg_deg_val = pd.concat([graph_df_train, graph_df_val])[['u', 'i']].groupby('i').count().mean().values[0]\n",
    "avg_deg_test = pd.concat([graph_df_train, graph_df_val, graph_df_test])[['u', 'i']].groupby('i').count().mean().values[0]\n",
    "avg_deg_total = graph_df[['u', 'i']].groupby('i').count().mean().values[0]\n",
    "\n",
    "print(f\"Avg. degree (train): {avg_deg_train}\")\n",
    "print(f\"Avg. degree (val): {avg_deg_val}\")\n",
    "print(f\"Avg. degree (test): {avg_deg_test}\")\n",
    "print(f\"Avg. degree (total): {avg_deg_total}\")"
   ]
  },
  {
   "cell_type": "code",
   "execution_count": 18,
   "id": "09762fb2",
   "metadata": {},
   "outputs": [
    {
     "name": "stdout",
     "output_type": "stream",
     "text": [
      "\n",
      "\\parbox[t]{2mm}{\\multirow{4}{*}{\\rotatebox[origin=c]{90}{Reddit}}} & Train & 8706 & 389989 & 449.296 \\\\\n",
      "& Validation & 8879 & 100867 & 501.385 \\\\\n",
      "& Test & 8656 & 100867 & 601.345 \\\\\n",
      "& Total & 10000 & 672447 & 683.381 \\\\\n",
      "\\midrule\n",
      "\n"
     ]
    }
   ],
   "source": [
    "text = f\"\"\"\n",
    "\\\\parbox[t]{{2mm}}{{\\multirow{{4}}{{*}}{{\\\\rotatebox[origin=c]{{90}}{{Reddit}}}}}} & Train & {nodes_train.shape[0]} & {graph_df_train.shape[0]} & {round(avg_deg_train,3)} \\\\\\\\\n",
    "& Validation & {nodes_val.shape[0]} & {graph_df_val.shape[0]} & {round(avg_deg_val,3)} \\\\\\\\\n",
    "& Test & {nodes_test.shape[0]} & {graph_df_test.shape[0]} & {round(avg_deg_test,3)} \\\\\\\\\n",
    "& Total & {nodes_total.shape[0]} & {graph_df.shape[0]} & {round(avg_deg_total,3)} \\\\\\\\\n",
    "\\\\midrule\n",
    "\"\"\"\n",
    "\n",
    "print(text)"
   ]
  }
 ],
 "metadata": {
  "kernelspec": {
   "display_name": ".venv",
   "language": "python",
   "name": "python3"
  },
  "language_info": {
   "codemirror_mode": {
    "name": "ipython",
    "version": 3
   },
   "file_extension": ".py",
   "mimetype": "text/x-python",
   "name": "python",
   "nbconvert_exporter": "python",
   "pygments_lexer": "ipython3",
   "version": "3.9.13"
  }
 },
 "nbformat": 4,
 "nbformat_minor": 5
}
