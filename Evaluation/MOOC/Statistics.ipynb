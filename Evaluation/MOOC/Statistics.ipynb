{
 "cells": [
  {
   "cell_type": "code",
   "execution_count": 1,
   "id": "02f02113",
   "metadata": {},
   "outputs": [],
   "source": [
    "import pandas as pd\n",
    "import numpy as np"
   ]
  },
  {
   "cell_type": "code",
   "execution_count": 2,
   "id": "74a76659",
   "metadata": {},
   "outputs": [],
   "source": [
    "from Config.config import CONFIG\n",
    "CONFIG = CONFIG(\"MOOC\")"
   ]
  },
  {
   "cell_type": "code",
   "execution_count": 3,
   "id": "531fb359",
   "metadata": {},
   "outputs": [],
   "source": [
    "from DyGLib.utils.DataLoader import get_link_prediction_data"
   ]
  },
  {
   "cell_type": "code",
   "execution_count": 4,
   "id": "1125c014",
   "metadata": {},
   "outputs": [
    {
     "name": "stdout",
     "output_type": "stream",
     "text": [
      "The dataset has 411749 interactions, involving 7144 different nodes\n",
      "The training dataset has 227485 interactions, involving 6015 different nodes\n",
      "The validation dataset has 61762 interactions, involving 2599 different nodes\n",
      "The test dataset has 61763 interactions, involving 2412 different nodes\n",
      "The new node validation dataset has 25592 interactions, involving 2333 different nodes\n",
      "The new node test dataset has 29179 interactions, involving 2181 different nodes\n",
      "714 nodes were used for the inductive testing, i.e. are never seen during training\n"
     ]
    }
   ],
   "source": [
    "node_raw_features, edge_raw_features, full_data, train_data, val_data, test_data = get_link_prediction_data(\n",
    "                            val_ratio=CONFIG.train.val_ratio, \n",
    "                            test_ratio=CONFIG.train.test_ratio, \n",
    "                            node_dim=CONFIG.model.node_dim)\n",
    "\n",
    "\n",
    "graph_df_train = pd.DataFrame({\"u\": train_data.src_node_ids, \"i\":train_data.dst_node_ids})\n",
    "graph_df_val = pd.DataFrame({\"u\": val_data.src_node_ids, \"i\":val_data.dst_node_ids})\n",
    "graph_df_test = pd.DataFrame({\"u\": test_data.src_node_ids, \"i\":test_data.dst_node_ids})\n",
    "graph_df = full_data.dataset if full_data.dataset is not None else pd.DataFrame()"
   ]
  },
  {
   "cell_type": "code",
   "execution_count": 5,
   "id": "67594c02",
   "metadata": {},
   "outputs": [],
   "source": [
    "nodes_train = np.unique(np.concat([graph_df_train.u.to_numpy(), graph_df_train.u.to_numpy()]))\n",
    "nodes_val = np.unique(np.concat([graph_df_val.u.to_numpy(), graph_df_val.u.to_numpy()]))\n",
    "nodes_test = np.unique(np.concat([graph_df_test.u.to_numpy(), graph_df_test.u.to_numpy()]))\n",
    "nodes_total = np.unique(np.concat([graph_df.u.to_numpy(), graph_df.u.to_numpy()]))"
   ]
  },
  {
   "cell_type": "code",
   "execution_count": 6,
   "id": "485f445e",
   "metadata": {},
   "outputs": [
    {
     "name": "stdout",
     "output_type": "stream",
     "text": [
      "Num. nodes (train): 5952\n",
      "Num. nodes (val): 2514\n",
      "Num. nodes (test): 2315\n",
      "Num. nodes (total): 7047\n"
     ]
    }
   ],
   "source": [
    "print(f\"Num. nodes (train): {nodes_train.shape[0]}\")\n",
    "print(f\"Num. nodes (val): {nodes_val.shape[0]}\")\n",
    "print(f\"Num. nodes (test): {nodes_test.shape[0]}\")\n",
    "print(f\"Num. nodes (total): {nodes_total.shape[0]}\")"
   ]
  },
  {
   "cell_type": "code",
   "execution_count": 7,
   "id": "0525e71f",
   "metadata": {},
   "outputs": [
    {
     "name": "stdout",
     "output_type": "stream",
     "text": [
      "Num. edges (train): 227485\n",
      "Num. edges (val): 61762\n",
      "Num. edges (test): 61763\n",
      "Num. edges (total): 411749\n"
     ]
    }
   ],
   "source": [
    "print(f\"Num. edges (train): {graph_df_train.shape[0]}\")\n",
    "print(f\"Num. edges (val): {graph_df_val.shape[0]}\")\n",
    "print(f\"Num. edges (test): {graph_df_test.shape[0]}\")\n",
    "print(f\"Num. edges (total): {graph_df.shape[0]}\")"
   ]
  },
  {
   "cell_type": "code",
   "execution_count": 8,
   "id": "aef24c27",
   "metadata": {},
   "outputs": [
    {
     "name": "stdout",
     "output_type": "stream",
     "text": [
      "Avg. degree (train): 3610.873015873016\n",
      "Avg. degree (val): 3402.9058823529413\n",
      "Avg. degree (test): 3618.659793814433\n",
      "Avg. degree (total): 4244.835051546392\n"
     ]
    }
   ],
   "source": [
    "avg_deg_train = graph_df_train[['u', 'i']].groupby('i').count().mean().values[0]\n",
    "avg_deg_val = pd.concat([graph_df_train, graph_df_val])[['u', 'i']].groupby('i').count().mean().values[0]\n",
    "avg_deg_test = pd.concat([graph_df_train, graph_df_val, graph_df_test])[['u', 'i']].groupby('i').count().mean().values[0]\n",
    "avg_deg_total = graph_df[['u', 'i']].groupby('i').count().mean().values[0]\n",
    "\n",
    "print(f\"Avg. degree (train): {avg_deg_train}\")\n",
    "print(f\"Avg. degree (val): {avg_deg_val}\")\n",
    "print(f\"Avg. degree (test): {avg_deg_test}\")\n",
    "print(f\"Avg. degree (total): {avg_deg_total}\")"
   ]
  },
  {
   "cell_type": "code",
   "execution_count": 9,
   "id": "70a337fa",
   "metadata": {},
   "outputs": [
    {
     "name": "stdout",
     "output_type": "stream",
     "text": [
      "\n",
      "\\parbox[t]{2mm}{\\multirow{4}{*}{\\rotatebox[origin=c]{90}{MOOC}}} & Train & 5952 & 227485 & 3610.873 \\\\\n",
      "& Validation & 2514 & 61762 & 3402.906 \\\\\n",
      "& Test & 2315 & 61763 & 3618.66 \\\\\n",
      "& Total & 7047 & 411749 & 4244.835 \\\\\n",
      "\\midrule\n",
      "\n"
     ]
    }
   ],
   "source": [
    "text = f\"\"\"\n",
    "\\\\parbox[t]{{2mm}}{{\\multirow{{4}}{{*}}{{\\\\rotatebox[origin=c]{{90}}{{MOOC}}}}}} & Train & {nodes_train.shape[0]} & {graph_df_train.shape[0]} & {round(avg_deg_train,3)} \\\\\\\\\n",
    "& Validation & {nodes_val.shape[0]} & {graph_df_val.shape[0]} & {round(avg_deg_val,3)} \\\\\\\\\n",
    "& Test & {nodes_test.shape[0]} & {graph_df_test.shape[0]} & {round(avg_deg_test,3)} \\\\\\\\\n",
    "& Total & {nodes_total.shape[0]} & {graph_df.shape[0]} & {round(avg_deg_total,3)} \\\\\\\\\n",
    "\\\\midrule\n",
    "\"\"\"\n",
    "\n",
    "print(text)"
   ]
  }
 ],
 "metadata": {
  "kernelspec": {
   "display_name": ".venv",
   "language": "python",
   "name": "python3"
  },
  "language_info": {
   "codemirror_mode": {
    "name": "ipython",
    "version": 3
   },
   "file_extension": ".py",
   "mimetype": "text/x-python",
   "name": "python",
   "nbconvert_exporter": "python",
   "pygments_lexer": "ipython3",
   "version": "3.9.13"
  }
 },
 "nbformat": 4,
 "nbformat_minor": 5
}
